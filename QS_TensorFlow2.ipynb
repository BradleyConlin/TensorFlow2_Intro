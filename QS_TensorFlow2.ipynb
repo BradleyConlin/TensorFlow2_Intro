{
  "nbformat": 4,
  "nbformat_minor": 0,
  "metadata": {
    "colab": {
      "name": "QS_TensorFlow2",
      "provenance": [],
      "collapsed_sections": [],
      "authorship_tag": "ABX9TyMTFYeoOsE4XKSifvihv4kl",
      "include_colab_link": true
    },
    "kernelspec": {
      "name": "python3",
      "display_name": "Python 3"
    }
  },
  "cells": [
    {
      "cell_type": "markdown",
      "metadata": {
        "id": "view-in-github",
        "colab_type": "text"
      },
      "source": [
        "<a href=\"https://colab.research.google.com/github/BradleyConlin/TensorFlow2_Intro/blob/main/QS_TensorFlow2.ipynb\" target=\"_parent\"><img src=\"https://colab.research.google.com/assets/colab-badge.svg\" alt=\"Open In Colab\"/></a>"
      ]
    },
    {
      "cell_type": "code",
      "metadata": {
        "id": "-UiOungjiPLV"
      },
      "source": [
        "import tensorflow as tf"
      ],
      "execution_count": 1,
      "outputs": []
    },
    {
      "cell_type": "code",
      "metadata": {
        "id": "6B95Hb6YVgPZ",
        "colab": {
          "base_uri": "https://localhost:8080/"
        },
        "outputId": "85e5b44a-b982-4f83-e5d0-3420807041a3"
      },
      "source": [
        "mnist = tf.keras.datasets.mnist\n",
        "\n",
        "(x_train, y_train), (x_test, y_test) = mnist.load_data()\n",
        "x_train, x_test = x_train / 255.0, x_test / 255.0"
      ],
      "execution_count": 2,
      "outputs": [
        {
          "output_type": "stream",
          "text": [
            "Downloading data from https://storage.googleapis.com/tensorflow/tf-keras-datasets/mnist.npz\n",
            "11493376/11490434 [==============================] - 0s 0us/step\n"
          ],
          "name": "stdout"
        }
      ]
    },
    {
      "cell_type": "code",
      "metadata": {
        "id": "tuBWAPi5AtRG"
      },
      "source": [
        "model = tf.keras.models.Sequential([\n",
        "  tf.keras.layers.Flatten(input_shape=(28, 28)),\n",
        "  tf.keras.layers.Dense(128, activation='relu'),\n",
        "  tf.keras.layers.Dropout(0.2),\n",
        "  tf.keras.layers.Dense(10)\n",
        "])"
      ],
      "execution_count": 3,
      "outputs": []
    },
    {
      "cell_type": "code",
      "metadata": {
        "id": "sdAVxaAdA2JR",
        "colab": {
          "base_uri": "https://localhost:8080/"
        },
        "outputId": "a9a9407a-4b5f-4a55-acd6-97e61f3f7183"
      },
      "source": [
        "predictions = model(x_train[:1]).numpy()\n",
        "predictions"
      ],
      "execution_count": 4,
      "outputs": [
        {
          "output_type": "execute_result",
          "data": {
            "text/plain": [
              "array([[ 0.8999403 , -0.16713673, -0.40261823,  0.74013984,  0.5992226 ,\n",
              "         0.17445469,  0.71278536, -0.5032282 ,  0.26564816, -0.51909125]],\n",
              "      dtype=float32)"
            ]
          },
          "metadata": {
            "tags": []
          },
          "execution_count": 4
        }
      ]
    },
    {
      "cell_type": "code",
      "metadata": {
        "id": "SD9e-SypA8AK",
        "colab": {
          "base_uri": "https://localhost:8080/"
        },
        "outputId": "3cfb2a3f-f4c7-46b1-d3b7-c0d4b37e3313"
      },
      "source": [
        "tf.nn.softmax(predictions).numpy()"
      ],
      "execution_count": 5,
      "outputs": [
        {
          "output_type": "execute_result",
          "data": {
            "text/plain": [
              "array([[0.18050773, 0.06209693, 0.04906839, 0.15384923, 0.13362747,\n",
              "        0.08738188, 0.14969781, 0.04437185, 0.09572519, 0.04367352]],\n",
              "      dtype=float32)"
            ]
          },
          "metadata": {
            "tags": []
          },
          "execution_count": 5
        }
      ]
    },
    {
      "cell_type": "code",
      "metadata": {
        "id": "XldR8DzPA8Ii"
      },
      "source": [
        "loss_fn = tf.keras.losses.SparseCategoricalCrossentropy(from_logits=True)"
      ],
      "execution_count": 6,
      "outputs": []
    },
    {
      "cell_type": "code",
      "metadata": {
        "id": "52PXrbCEA8Pg",
        "colab": {
          "base_uri": "https://localhost:8080/"
        },
        "outputId": "5cb7e45b-546a-4504-9854-cc23fc981bb8"
      },
      "source": [
        "loss_fn(y_train[:1], predictions).numpy()"
      ],
      "execution_count": 7,
      "outputs": [
        {
          "output_type": "execute_result",
          "data": {
            "text/plain": [
              "2.4374673"
            ]
          },
          "metadata": {
            "tags": []
          },
          "execution_count": 7
        }
      ]
    },
    {
      "cell_type": "code",
      "metadata": {
        "id": "UAan01vMA8S5"
      },
      "source": [
        "model.compile(optimizer='adam',\n",
        "              loss=loss_fn,\n",
        "              metrics=['accuracy'])"
      ],
      "execution_count": 8,
      "outputs": []
    },
    {
      "cell_type": "code",
      "metadata": {
        "id": "X41znBgWA8Vt",
        "colab": {
          "base_uri": "https://localhost:8080/"
        },
        "outputId": "e654f2f8-ebde-401f-feb9-614ed5295c37"
      },
      "source": [
        "model.fit(x_train, y_train, epochs=5)"
      ],
      "execution_count": 9,
      "outputs": [
        {
          "output_type": "stream",
          "text": [
            "Epoch 1/5\n",
            "1875/1875 [==============================] - 3s 2ms/step - loss: 0.4807 - accuracy: 0.8596\n",
            "Epoch 2/5\n",
            "1875/1875 [==============================] - 3s 2ms/step - loss: 0.1598 - accuracy: 0.9517\n",
            "Epoch 3/5\n",
            "1875/1875 [==============================] - 3s 2ms/step - loss: 0.1104 - accuracy: 0.9672\n",
            "Epoch 4/5\n",
            "1875/1875 [==============================] - 3s 2ms/step - loss: 0.0874 - accuracy: 0.9736\n",
            "Epoch 5/5\n",
            "1875/1875 [==============================] - 3s 2ms/step - loss: 0.0763 - accuracy: 0.9761\n"
          ],
          "name": "stdout"
        },
        {
          "output_type": "execute_result",
          "data": {
            "text/plain": [
              "<tensorflow.python.keras.callbacks.History at 0x7f4b5c2b9438>"
            ]
          },
          "metadata": {
            "tags": []
          },
          "execution_count": 9
        }
      ]
    },
    {
      "cell_type": "code",
      "metadata": {
        "id": "3FfEzaibBTvE",
        "colab": {
          "base_uri": "https://localhost:8080/"
        },
        "outputId": "666ef067-4a87-4893-9ab3-3cbd8e576a8c"
      },
      "source": [
        "model.evaluate(x_test,  y_test, verbose=2)"
      ],
      "execution_count": 10,
      "outputs": [
        {
          "output_type": "stream",
          "text": [
            "313/313 - 0s - loss: 0.0723 - accuracy: 0.9780\n"
          ],
          "name": "stdout"
        },
        {
          "output_type": "execute_result",
          "data": {
            "text/plain": [
              "[0.07230118662118912, 0.9779999852180481]"
            ]
          },
          "metadata": {
            "tags": []
          },
          "execution_count": 10
        }
      ]
    },
    {
      "cell_type": "code",
      "metadata": {
        "id": "lVj_4fw2BT2c"
      },
      "source": [
        "probability_model = tf.keras.Sequential([\n",
        "  model,\n",
        "  tf.keras.layers.Softmax()\n",
        "])"
      ],
      "execution_count": 11,
      "outputs": []
    },
    {
      "cell_type": "code",
      "metadata": {
        "id": "KHfPcR0GBT5J",
        "colab": {
          "base_uri": "https://localhost:8080/"
        },
        "outputId": "44f31fc9-ec5e-4cd0-8f2c-f4952cd49636"
      },
      "source": [
        "probability_model(x_test[:5])"
      ],
      "execution_count": 12,
      "outputs": [
        {
          "output_type": "execute_result",
          "data": {
            "text/plain": [
              "<tf.Tensor: shape=(5, 10), dtype=float32, numpy=\n",
              "array([[1.8625760e-08, 1.1656059e-08, 9.6574695e-06, 4.0556453e-05,\n",
              "        5.6717395e-11, 1.8753878e-08, 6.1633797e-12, 9.9994767e-01,\n",
              "        1.1336169e-07, 2.0789321e-06],\n",
              "       [3.9514435e-07, 2.8604272e-04, 9.9970347e-01, 7.5277812e-06,\n",
              "        8.9657982e-16, 1.5888412e-06, 6.4580792e-07, 4.6837360e-13,\n",
              "        3.2294480e-07, 2.1090153e-14],\n",
              "       [1.2634374e-07, 9.9606764e-01, 6.5716857e-04, 5.0328465e-05,\n",
              "        4.8672562e-04, 4.9014954e-05, 1.1793148e-04, 2.0443855e-03,\n",
              "        5.2467728e-04, 1.9033546e-06],\n",
              "       [9.9987328e-01, 3.3890753e-08, 8.9332234e-06, 1.1420483e-07,\n",
              "        1.1973016e-07, 7.5842763e-06, 5.5853314e-05, 4.9614850e-05,\n",
              "        4.2508042e-08, 4.3859154e-06],\n",
              "       [5.7420189e-06, 9.6703348e-09, 1.6929218e-05, 1.0130448e-07,\n",
              "        9.9291623e-01, 3.5186492e-06, 2.9106714e-06, 9.8818867e-04,\n",
              "        3.2477027e-07, 6.0659465e-03]], dtype=float32)>"
            ]
          },
          "metadata": {
            "tags": []
          },
          "execution_count": 12
        }
      ]
    },
    {
      "cell_type": "code",
      "metadata": {
        "id": "QC9vCzCRBT7l"
      },
      "source": [
        ""
      ],
      "execution_count": null,
      "outputs": []
    }
  ]
}